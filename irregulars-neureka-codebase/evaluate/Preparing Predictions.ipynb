{
 "cells": [
  {
   "cell_type": "code",
   "execution_count": null,
   "metadata": {},
   "outputs": [],
   "source": [
    "import h5py\n",
    "import numpy as np\n",
    "from sklearn import model_selection\n",
    "import matplotlib.pyplot as plt\n",
    "from sklearn import metrics\n",
    "import os\n",
    "import tensorflow as tf\n",
    "from tensorflow.keras import Model, Input\n",
    "from tensorflow.keras.layers import Conv2D, UpSampling2D, MaxPooling2D, AveragePooling2D, Attention\n",
    "from tensorflow.keras.layers import ELU, BatchNormalization, Reshape, Concatenate, Dropout, Add, Multiply\n",
    "\n",
    "from utils import SeizureState, setup_tf, AttentionPooling, BiasedConv"
   ]
  },
  {
   "cell_type": "code",
   "execution_count": null,
   "metadata": {},
   "outputs": [],
   "source": [
    "val_path = 'PATH_TO_DATASET.h5'\n",
    "saved_predictions = 'PATH_TO_PREDICTIONS.h5'\n",
    "network_path = 'PATH_TO_NETWORK_WEIGHTS.h5'\n",
    "\n",
    "fs = 200\n",
    "n_channels = 18\n",
    "seizure = 'seiz'\n",
    "background = 'bckg'"
   ]
  },
  {
   "cell_type": "code",
   "execution_count": null,
   "metadata": {},
   "outputs": [],
   "source": [
    "setup_tf()"
   ]
  },
  {
   "cell_type": "code",
   "execution_count": null,
   "metadata": {},
   "outputs": [],
   "source": [
    "with h5py.File(val_path, 'r') as f:\n",
    "    file_names_test = []\n",
    "    signals_test = []\n",
    "    \n",
    "    file_names_ds = f['filenames']\n",
    "    signals_ds = f['signals']\n",
    "    \n",
    "    for i in range(len(signals_ds)):\n",
    "        file_names_test.append(file_names_ds[i])\n",
    "        data = np.asarray(np.vstack(signals_ds[i]).T, dtype=np.float32)\n",
    "        mean = np.mean(data, axis=0)\n",
    "        std = np.std(data, axis=0)\n",
    "        signals_test.append((data-mean)/(std+1e-8))"
   ]
  },
  {
   "cell_type": "markdown",
   "metadata": {},
   "source": [
    "# Seizure detection"
   ]
  },
  {
   "cell_type": "markdown",
   "metadata": {},
   "source": [
    "### Building U-Net"
   ]
  },
  {
   "cell_type": "code",
   "execution_count": null,
   "metadata": {},
   "outputs": [],
   "source": [
    "n_filters = 8"
   ]
  },
  {
   "cell_type": "code",
   "execution_count": null,
   "metadata": {},
   "outputs": [],
   "source": [
    "input_seq = Input(shape=(None, n_channels, 1))\n",
    "\n",
    "x = Conv2D(filters=n_filters, kernel_size=(15, 1), strides=(1, 1), padding='same', activation=None)(input_seq)\n",
    "x = BatchNormalization()(x)\n",
    "lvl0 = ELU()(x)\n",
    "\n",
    "x = MaxPooling2D(pool_size=(4, 1), padding='same')(lvl0)\n",
    "x = Conv2D(filters=2*n_filters, kernel_size=(15, 1), strides=(1, 1), padding='same', activation=None)(x)\n",
    "x = BatchNormalization()(x)\n",
    "lvl1 = ELU()(x)\n",
    "\n",
    "x = MaxPooling2D(pool_size=(4, 1), padding='same')(lvl1)\n",
    "x = Conv2D(filters=4*n_filters, kernel_size=(15, 1), strides=(1, 1), padding='same', activation=None)(x)\n",
    "x = BatchNormalization()(x)\n",
    "lvl2 = ELU()(x)\n",
    "\n",
    "x = MaxPooling2D(pool_size=(4, 1), padding='same')(lvl2)\n",
    "x = Conv2D(filters=4*n_filters, kernel_size=(7, 1), strides=(1, 1), padding='same', activation=None)(x)\n",
    "x = BatchNormalization()(x)\n",
    "lvl3 = ELU()(x)\n",
    "\n",
    "x = MaxPooling2D(pool_size=(4, 1), padding='same')(lvl3)\n",
    "x = Conv2D(filters=8*n_filters, kernel_size=(3, 1), strides=(1, 1), padding='same', activation=None)(x)\n",
    "x = BatchNormalization()(x)\n",
    "lvl4 = ELU()(x)\n",
    "\n",
    "x = MaxPooling2D(pool_size=(4, 1), padding='same')(lvl4)\n",
    "x = Conv2D(filters=8*n_filters, kernel_size=(3, 1), strides=(1, 1), padding='same', activation=None)(x)\n",
    "x = BatchNormalization()(x)\n",
    "x = ELU()(x)\n",
    "lvl5 = x\n",
    "\n",
    "x = MaxPooling2D(pool_size=(1, 20), padding='same')(lvl5)\n",
    "x = Conv2D(filters=4*n_filters, kernel_size=(3, 1), strides=(1, 1), padding='same', activation=None)(x)\n",
    "x = BatchNormalization()(x)\n",
    "x = ELU()(x)\n",
    "x = Dropout(rate=0.5)(x)\n",
    "x = Conv2D(filters=4*n_filters, kernel_size=(3, 1), strides=(1, 1), padding='same', activation=None)(x)\n",
    "x = BatchNormalization()(x)\n",
    "x = ELU()(x)\n",
    "x = Dropout(rate=0.5)(x)\n",
    "\n",
    "up4 = UpSampling2D(size=(4, 1))(x)\n",
    "att4 = AttentionPooling(filters=4*n_filters, channels=n_channels)([up4, lvl4])\n",
    "\n",
    "x = Concatenate(axis=-1)([up4, att4])\n",
    "x = Conv2D(filters=4*n_filters, kernel_size=(3, 1), strides=(1, 1), padding='same', activation=None)(x)\n",
    "x = BatchNormalization()(x)\n",
    "x = ELU()(x)\n",
    "\n",
    "up3 = UpSampling2D(size=(4, 1))(x)\n",
    "att3 = AttentionPooling(filters=4*n_filters, channels=n_channels)([up3, lvl3])\n",
    "\n",
    "x = Concatenate(axis=-1)([up3, att3])\n",
    "x = Conv2D(filters=4*n_filters, kernel_size=(7, 1), strides=(1, 1), padding='same', activation=None)(x)\n",
    "x = BatchNormalization()(x)\n",
    "x = ELU()(x)\n",
    "\n",
    "up2 = UpSampling2D(size=(4, 1))(x)\n",
    "att2 = AttentionPooling(filters=4*n_filters, channels=n_channels)([up2, lvl2])\n",
    "\n",
    "x = Concatenate(axis=-1)([up2, att2])\n",
    "x = Conv2D(filters=4*n_filters, kernel_size=(15, 1), strides=(1, 1), padding='same', activation=None)(x)\n",
    "x = BatchNormalization()(x)\n",
    "x = ELU()(x)\n",
    "\n",
    "\n",
    "up1 = UpSampling2D(size=(4, 1))(x)\n",
    "att1 = AttentionPooling(filters=4*n_filters, channels=n_channels)([up1, lvl1])\n",
    "\n",
    "x = Concatenate(axis=-1)([up1, att1])\n",
    "x = Conv2D(filters=4*n_filters, kernel_size=(15, 1), strides=(1, 1), padding='same', activation=None)(x)\n",
    "x = BatchNormalization()(x)\n",
    "x = ELU()(x)\n",
    "\n",
    "up0 = UpSampling2D(size=(4, 1))(x)\n",
    "att0 = AttentionPooling(filters=4*n_filters, channels=n_channels)([up0, lvl0])\n",
    "x = Concatenate(axis=-1)([up0, att0])\n",
    "x = Conv2D(filters=4*n_filters, kernel_size=(15, 1), strides=(1, 1), padding='same', activation=None)(x)\n",
    "x = BatchNormalization()(x)\n",
    "x = ELU()(x)\n",
    "x = Conv2D(filters=4*n_filters, kernel_size=(15, 1), strides=(1, 1), padding='same', activation=None)(x)\n",
    "x = BatchNormalization()(x)\n",
    "x = ELU()(x)\n",
    "output = Conv2D(filters=1, kernel_size=(15, 1), strides=(1, 1), padding='same', activation='sigmoid')(x)\n",
    "\n",
    "unet = Model(input_seq, output)"
   ]
  },
  {
   "cell_type": "code",
   "execution_count": null,
   "metadata": {},
   "outputs": [],
   "source": [
    "unet.load_weights(network_path)\n",
    "unet.summary()"
   ]
  },
  {
   "cell_type": "markdown",
   "metadata": {},
   "source": [
    "### Prediction step"
   ]
  },
  {
   "cell_type": "code",
   "execution_count": null,
   "metadata": {},
   "outputs": [],
   "source": [
    "y_probas = []\n",
    "reduction = 4096//4\n",
    "with tf.device('cpu:0'):\n",
    "    for signal in signals_test:\n",
    "        signal = signal[:len(signal)//reduction*reduction, :]\n",
    "        prediction = unet.predict(signal[np.newaxis, :, :, np.newaxis])[0, :, 0, 0]\n",
    "        y_probas.append(prediction)"
   ]
  },
  {
   "cell_type": "markdown",
   "metadata": {},
   "source": [
    "# Saving predictions"
   ]
  },
  {
   "cell_type": "code",
   "execution_count": null,
   "metadata": {},
   "outputs": [],
   "source": [
    "dt_fl = h5py.vlen_dtype(np.dtype('float32'))\n",
    "dt_str = h5py.special_dtype(vlen=str)\n",
    "\n",
    "with h5py.File(saved_predictions, 'w') as f:\n",
    "    dset_signals = f.create_dataset('signals', (len(file_names_test),), dtype=dt_fl)\n",
    "    dset_file_names = f.create_dataset('filenames', (len(file_names_test),), dtype=dt_str)\n",
    "    \n",
    "    for i in range(len(file_names_test)):\n",
    "        dset_signals[i] = y_probas[i]\n",
    "        dset_file_names[i] = file_names_test[i]"
   ]
  },
  {
   "cell_type": "code",
   "execution_count": null,
   "metadata": {},
   "outputs": [],
   "source": []
  }
 ],
 "metadata": {
  "kernelspec": {
   "display_name": "Python 3",
   "language": "python",
   "name": "python3"
  },
  "language_info": {
   "codemirror_mode": {
    "name": "ipython",
    "version": 3
   },
   "file_extension": ".py",
   "mimetype": "text/x-python",
   "name": "python",
   "nbconvert_exporter": "python",
   "pygments_lexer": "ipython3",
   "version": "3.7.3"
  }
 },
 "nbformat": 4,
 "nbformat_minor": 4
}
